{
 "cells": [
  {
   "cell_type": "markdown",
   "metadata": {},
   "source": [
    "### Understanding Gaussian Distributions\n",
    "\n",
    "The fundamental idea behind the construction of a **gaussian** or **normal** distribution is that of **exponentiation**. \n",
    "Although the definition may seem intimidating at the first sight, we shall see by the means of interacting with plots, that it is very easy to develop an intuitive understanding for these.<br>\n",
    "\n",
    "The gaussian distribution is perhaps one of the most important distributions in probablity theory since it has diverse applications, such as modeling randomness, noise in signals, etc. Therefore it is crucial to have an intutition about how the graph comes into existance.<br>\n",
    "\n",
    "#### I. Definition\n",
    "The normal distribution can be defined as follows\n",
    "\n",
    "$\\boxed{N(\\mu, \\sigma^2): \\quad \\frac{1}{\\sigma\\sqrt{2\\pi}} \\text{exp} \\left\\lbrace \\frac{-(x - \\mu)^2}{2\\sigma^2} \\right\\rbrace, \\quad \\text{where } \\sigma \\in \\mathbb{R}^+ \\text{ and } \\mu \\in \\mathbb{R} \\quad}$ <br><br>\n",
    "\n",
    "Since it is a type of **probability density function**, the following property must hold true for this distribution. <br>\n",
    "\n",
    "$\\boxed{\\int_{-\\infty}^{\\infty} f(x) dx = 1 \\quad}$<br><br>\n",
    "\n",
    "The **standard normal form** of the distribution can be defined as<br>\n",
    "\n",
    "$\\boxed{N(0, 1): \\quad \\frac{1}{\\sqrt{2\\pi}} \\text{exp} \\left\\lbrace \\frac{-x^2}{2} \\right\\rbrace}$ <br><br>"
   ]
  },
  {
   "cell_type": "code",
   "execution_count": 2,
   "metadata": {},
   "outputs": [],
   "source": [
    "# Backend\n",
    "% matplotlib widget"
   ]
  },
  {
   "cell_type": "code",
   "execution_count": 3,
   "metadata": {},
   "outputs": [],
   "source": [
    "# First set of imports\n",
    "\n",
    "import numpy as np\n",
    "import matplotlib.pyplot as plt\n",
    "import seaborn as sns\n",
    "import warnings\n",
    "\n",
    "warnings.filterwarnings('ignore')\n",
    "sns.set()\n",
    "\n",
    "# Need for proper functionality of interactive plots\n",
    "\n",
    "plt.ioff()"
   ]
  },
  {
   "cell_type": "markdown",
   "metadata": {},
   "source": [
    "#### II. Plots\n",
    "Let us first try to plot the function $f(x):\\frac{x^2}{2}$."
   ]
  },
  {
   "cell_type": "code",
   "execution_count": 4,
   "metadata": {},
   "outputs": [
    {
     "data": {
      "application/vnd.jupyter.widget-view+json": {
       "model_id": "675d3d2a7ccd4ba7a45d060a1de90047",
       "version_major": 2,
       "version_minor": 0
      },
      "text/plain": [
       "FigureCanvasNbAgg()"
      ]
     },
     "metadata": {},
     "output_type": "display_data"
    }
   ],
   "source": [
    "x = np.linspace(-20, 20, 1000)\n",
    "y = x ** 2 / 2\n",
    "fig = plt.figure()\n",
    "plt.plot(x, y)\n",
    "plt.show()"
   ]
  },
  {
   "cell_type": "markdown",
   "metadata": {},
   "source": [
    "The plot turns out to be a *parabola centered at origin*.<br>\n",
    "\n",
    "Our next step involves plotting $-f(x)$ which is nothing but a the same graph mirrored about the $x-$axis. "
   ]
  },
  {
   "cell_type": "code",
   "execution_count": 5,
   "metadata": {},
   "outputs": [
    {
     "data": {
      "application/vnd.jupyter.widget-view+json": {
       "model_id": "1f3e787c0a9a43f6999366118eaf2706",
       "version_major": 2,
       "version_minor": 0
      },
      "text/plain": [
       "FigureCanvasNbAgg()"
      ]
     },
     "metadata": {},
     "output_type": "display_data"
    }
   ],
   "source": [
    "y = -y\n",
    "plt.plot(x, y)\n",
    "plt.show()"
   ]
  },
  {
   "cell_type": "markdown",
   "metadata": {},
   "source": [
    "Although the range of this function is $\\mathbb{R}^- + \\{0\\}$, it has started to take the distinct *bell shape.*<br>\n",
    "\n",
    "Now this is the step where the magic happens. $e$ is a postive number and raising it to any $f(x)$ will always keep the result $\\geq 0$. This changes the range of our function to $\\mathbb{R}^+ + \\{0\\}$.<br>\n",
    "\n",
    "Futhermore, we can see that the domain of the function plotted above is $(-\\infty, \\infty)$ if we plug this into our new function which is $e^{-\\frac{x^2}{2}}$, we will see that the function now asymptotically goes towards $0$ and peaks at $x=0$ where it takes the value $1$.<br>\n",
    "\n",
    "The picture now becomes exactly what we want."
   ]
  },
  {
   "cell_type": "code",
   "execution_count": 8,
   "metadata": {},
   "outputs": [
    {
     "data": {
      "application/vnd.jupyter.widget-view+json": {
       "model_id": "dc234a9b8ff4444f95efa648506d1f80",
       "version_major": 2,
       "version_minor": 0
      },
      "text/plain": [
       "FigureCanvasNbAgg()"
      ]
     },
     "metadata": {},
     "output_type": "display_data"
    }
   ],
   "source": [
    "y = np.e**y\n",
    "plt.plot(x, y)\n",
    "plt.show()"
   ]
  },
  {
   "cell_type": "markdown",
   "metadata": {},
   "source": [
    "Now we need to verify whether this satisfies the property we stated above for it be be a probability density function. We can do this by evaluating the above integral and checking if it equals $1$."
   ]
  },
  {
   "cell_type": "code",
   "execution_count": 9,
   "metadata": {},
   "outputs": [
    {
     "data": {
      "text/plain": [
       "2.506628274631"
      ]
     },
     "execution_count": 9,
     "metadata": {},
     "output_type": "execute_result"
    }
   ],
   "source": [
    "# second set of imports and function definiton\n",
    "from scipy.integrate import quad\n",
    "\n",
    "def std_norm_dist(x):\n",
    "    return np.e ** (- x ** 2 / 2)\n",
    "\n",
    "# quad(function, lower_limit, upper_limit) returns a tuple: (result, approx. error)\n",
    "quad(std_norm_dist, -np.inf, np.inf)[0]"
   ]
  },
  {
   "cell_type": "markdown",
   "metadata": {},
   "source": [
    "Well did we make a mistake? No. <br>\n",
    "We do have a bell shape right now but it is not a normal distribution. To normalize this we need to divide both sides of the integral by this factor that we have just calculated. And it is no conincedence that this factor is equal to $\\sqrt{2\\pi}$"
   ]
  },
  {
   "cell_type": "code",
   "execution_count": 10,
   "metadata": {},
   "outputs": [
    {
     "data": {
      "text/plain": [
       "2.5066282746310002"
      ]
     },
     "execution_count": 10,
     "metadata": {},
     "output_type": "execute_result"
    }
   ],
   "source": [
    "np.sqrt(2 * np.pi)"
   ]
  },
  {
   "cell_type": "markdown",
   "metadata": {},
   "source": [
    "Now what we have is this\n",
    "$\\boxed{\\int_{\\infty}^\\infty \\frac{1}{\\sqrt{2\\pi}} \\text{exp} \\left\\lbrace -\\frac{x^2}{2} \\right\\rbrace = 1 \\quad}$ which is indeed the definition for the standard normal form.\n",
    "\n",
    "### III. Extending to general form\n",
    "The general form takes two parameters $\\mu, \\sigma^2$. Lets have a look on how they affect our function."
   ]
  },
  {
   "cell_type": "code",
   "execution_count": 11,
   "metadata": {},
   "outputs": [],
   "source": [
    "# Thrid set of imports\n",
    "from ipywidgets import interact, interactive, fixed, interact_manual\n",
    "import ipywidgets as widgets"
   ]
  },
  {
   "cell_type": "code",
   "execution_count": 13,
   "metadata": {},
   "outputs": [],
   "source": [
    "def normal_dist(mean, var):\n",
    "    x = np.linspace(-10,10,1000)\n",
    "    y = np.e ** (-(x - mean) ** 2 / (2 * var) ) / (2 * np.pi * var)**0.5\n",
    "    plt.plot(x, y)\n",
    "    plt.show()"
   ]
  },
  {
   "cell_type": "markdown",
   "metadata": {},
   "source": [
    "Play around with the two parameters mean $\\mu$ and variance $\\sigma^2$ and see what happens to the distribution."
   ]
  },
  {
   "cell_type": "code",
   "execution_count": 14,
   "metadata": {},
   "outputs": [
    {
     "data": {
      "application/vnd.jupyter.widget-view+json": {
       "model_id": "77c6ab663d324b0fb71d424655309638",
       "version_major": 2,
       "version_minor": 0
      },
      "text/plain": [
       "interactive(children=(IntSlider(value=0, description='mean', max=5, min=-5), IntSlider(value=5, description='v…"
      ]
     },
     "metadata": {},
     "output_type": "display_data"
    },
    {
     "data": {
      "text/plain": [
       "<function __main__.normal_dist(mean, var)>"
      ]
     },
     "execution_count": 14,
     "metadata": {},
     "output_type": "execute_result"
    }
   ],
   "source": [
    "interact(normal_dist, mean=(-5,5,1), var=(1, 9,1))"
   ]
  },
  {
   "cell_type": "markdown",
   "metadata": {},
   "source": [
    "From this we can conclude that $\\mu$ affects the distribution by changing the point about which the disrtibution is symmetric and $\\sigma^2$ affects the spread of the distribution.<br>\n",
    "\n",
    "If we think about how this graph was constructed then we can think of it as our original parabola having a focus other than origin and a factor other than $2$ in the denominator to affect it's spread.\n",
    "\n",
    "### IV. Bivariate Gaussian Distributions\n",
    "Now that we have a clear understanding of how univariate gaussian distributions work, we can try visualizing a bivariate one, defined as follows<br>\n",
    "\n",
    "$\\boxed{N(\\mu_x, \\mu_y, \\sigma_x^2, \\sigma_y^2): \\quad \\frac{1}{\\sigma_x\\sigma_y\\sqrt{2\\pi}} \\text{exp} \\left\\lbrace -\\frac{(x - \\mu_x)^2}{2\\sigma_x^2} -\\frac{(y - \\mu_y)^2}{2\\sigma_y^2} \\right\\rbrace, \\quad \\text{where } \\sigma_x, \\sigma_y \\in \\mathbb{R}^+ \\text{ and } \\mu_x,\\mu_y \\in \\mathbb{R} \\quad}$ <br><br>\n",
    "\n"
   ]
  },
  {
   "cell_type": "code",
   "execution_count": 15,
   "metadata": {},
   "outputs": [],
   "source": [
    "# Fourth import set\n",
    "\n",
    "from mpl_toolkits.mplot3d import Axes3D\n",
    "from matplotlib import cm"
   ]
  },
  {
   "cell_type": "code",
   "execution_count": 18,
   "metadata": {},
   "outputs": [],
   "source": [
    "def bivar_norm_dist(mean_x, mean_y, var_x, var_y):\n",
    "    \n",
    "    x = np.linspace(-4, 4, 1000)\n",
    "    y = np.linspace(-4, 4, 1000)    \n",
    "    \n",
    "    fig  = plt.figure()\n",
    "    ax   = fig.gca(projection='3d')\n",
    "    x, y = np.meshgrid(x, y)\n",
    "    \n",
    "    z = (np.e**(-(x-mean_x)**2/(2*var_x)-(y-mean_y)**2/(2*var_y)))/(var_x*var_y*2*np.pi)**0.5\n",
    "    \n",
    "    surf = ax.plot_surface(x, y, z, cmap=cm.viridis, linewidth=0, antialiased=False)\n",
    "    ax.contour(x, y, z, cmap=cm.viridis, linewidth=0.2,linestyles=\"solid\", offset=-0.1)\n",
    "    ax.contourf(x, y, z, cmap=cm.viridis, offset=-0.1)\n",
    "    ax.set_zlim(-0.1, 0.1)\n",
    "    \n",
    "    fig.colorbar(surf, shrink=0.5, aspect=5)\n",
    "\n",
    "    plt.show()"
   ]
  },
  {
   "cell_type": "code",
   "execution_count": 19,
   "metadata": {},
   "outputs": [
    {
     "data": {
      "application/vnd.jupyter.widget-view+json": {
       "model_id": "649705e9a822416fb06382ee8d0b57b4",
       "version_major": 2,
       "version_minor": 0
      },
      "text/plain": [
       "interactive(children=(IntSlider(value=0, description='mean_x', max=5, min=-5), IntSlider(value=0, description=…"
      ]
     },
     "metadata": {},
     "output_type": "display_data"
    },
    {
     "data": {
      "text/plain": [
       "<function __main__.bivar_norm_dist(mean_x, mean_y, var_x, var_y)>"
      ]
     },
     "execution_count": 19,
     "metadata": {},
     "output_type": "execute_result"
    }
   ],
   "source": [
    "interact(bivar_norm_dist, mean_x=(-5,5,1), mean_y=(-5,5,1), var_x=(2,5,1), var_y=(2,5,1))"
   ]
  },
  {
   "cell_type": "markdown",
   "metadata": {},
   "source": [
    "In case of two variables, we notice how our initial parabola has now become the equation of an elipse that is to be exponentiated. Every such elipse can be plotted as a **contour** as shown above. Varying the parameters has the an effect similar to that of the univariate distribution.<br><br>\n",
    "\n",
    "This concludes the tutorial."
   ]
  },
  {
   "cell_type": "code",
   "execution_count": null,
   "metadata": {},
   "outputs": [],
   "source": []
  }
 ],
 "metadata": {
  "kernelspec": {
   "display_name": "Python 3",
   "language": "python",
   "name": "python3"
  },
  "language_info": {
   "codemirror_mode": {
    "name": "ipython",
    "version": 3
   },
   "file_extension": ".py",
   "mimetype": "text/x-python",
   "name": "python",
   "nbconvert_exporter": "python",
   "pygments_lexer": "ipython3",
   "version": "3.6.6"
  }
 },
 "nbformat": 4,
 "nbformat_minor": 2
}
